{
  "nbformat": 4,
  "nbformat_minor": 0,
  "metadata": {
    "kernelspec": {
      "display_name": "Python 3",
      "language": "python",
      "name": "python3"
    },
    "language_info": {
      "codemirror_mode": {
        "name": "ipython",
        "version": 3
      },
      "file_extension": ".py",
      "mimetype": "text/x-python",
      "name": "python",
      "nbconvert_exporter": "python",
      "pygments_lexer": "ipython3",
      "version": "3.7.1"
    },
    "colab": {
      "name": "Copy of Copy of DATA 301 Lab 4 - Nathan Hill, Ryan Lee",
      "provenance": [],
      "collapsed_sections": []
    }
  },
  "cells": [
    {
      "cell_type": "markdown",
      "metadata": {
        "id": "GWSNdW_jY8DY"
      },
      "source": [
        "# Machine Learning for Beer\n",
        "\n",
        "Your goal is to train a model to predict the bitterness of a beer (in International Bittering Units, or IBU), given features about the beer. You can acquire the data in two places:\n",
        "\n",
        "- on [Kaggle](https://www.kaggle.com/c/beer2020/data) \n",
        "- on [Github](https://github.com/dlsun/pods/tree/master/data/beer) (https://dlsun.github.io/pods/data/beer/beer_train.csv and https://dlsun.github.io/pods/data/beer/beer_test.csv )\n",
        "\n",
        "A description of the variables is available [here](https://www.kaggle.com/c/beer2020/data).\n",
        "\n",
        "\n",
        "We would like to predict **ibu** using a $20$-nearest neighbors model.\n",
        "\n",
        "There are three features that have to do with the physical properties of the beer:  **abv**, **srm**, **original gravity**\n",
        "\n",
        "There are two \"cultural\" features that have to do with how/when the beer is traditionally served: **glass**, **available**\n",
        "\n",
        "Consider predicting **ibu** from \n",
        "(a) Only the physical features\n",
        "(b) Only the cultural features\n",
        "(c) All five features"
      ]
    },
    {
      "cell_type": "code",
      "source": [
        "import pandas as pd\n",
        "import numpy as np\n",
        "from sklearn.compose import make_column_transformer\n",
        "from sklearn.preprocessing import StandardScaler, OneHotEncoder, MinMaxScaler, Normalizer\n",
        "from sklearn.pipeline import make_pipeline\n",
        "from sklearn.neighbors import KNeighborsRegressor\n",
        "from sklearn.model_selection import cross_val_score\n",
        "\n",
        "df_beer_train = pd.read_csv(\"https://dlsun.github.io/pods/data/beer/beer_train.csv\")\n",
        "df_beer_test = pd.read_csv(\"https://dlsun.github.io/pods/data/beer/beer_test.csv\")\n"
      ],
      "metadata": {
        "id": "QrFh4HH2emn1"
      },
      "execution_count": 1,
      "outputs": []
    },
    {
      "cell_type": "code",
      "source": [
        "df_beer_train[\"srm\"] = df_beer_train[\"srm\"].str.replace(\"Over 40\", \"40\").astype(int)\n",
        "df_beer_test[\"srm\"] = df_beer_test[\"srm\"].str.replace(\"Over 40\", \"40\").astype(int)\n"
      ],
      "metadata": {
        "id": "jojFnGKTgv4c"
      },
      "execution_count": 2,
      "outputs": []
    },
    {
      "cell_type": "markdown",
      "metadata": {
        "id": "aEBlEDxWY8Dl"
      },
      "source": [
        "## Question 1\n",
        "Let's see how the distance metric, the scaling method, and the model influence prediction accuracy. \n",
        "\n",
        "Consider only the *physical* features. Train a **20**-nearest-neighbor model to predict **ibu**. Try fitting models with different distance metrics and scaling methods. \n",
        "\n",
        "Which distance metric and/or scaling method gives the best prediction accuracy? Why do you think that might be?"
      ]
    },
    {
      "cell_type": "code",
      "source": [
        "X_train = df_beer_train[[\"abv\", \"originalGravity\", \"srm\"]]\n",
        "Y_train = df_beer_train[\"ibu\"]\n",
        "\n",
        "ct = make_column_transformer(\n",
        "    (StandardScaler(), [\"abv\", \"originalGravity\", \"srm\"]),\n",
        "    remainder=\"drop\"  \n",
        ")  \n",
        "\n",
        "beer_pipeline = make_pipeline(\n",
        "          ct,\n",
        "          KNeighborsRegressor(n_neighbors=20, metric = \"manhattan\")\n",
        ")\n",
        "\n",
        "beer_pipeline.fit(X=X_train, y=Y_train)\n",
        "\n",
        "x_new = df_beer_train[[\"abv\", \"originalGravity\", \"srm\"]]\n",
        "y_train_ = beer_pipeline.predict(X= x_new)\n",
        "mse = ((df_beer_train[\"ibu\"] - y_train_) ** 2).mean()\n",
        "mse\n"
      ],
      "metadata": {
        "colab": {
          "base_uri": "https://localhost:8080/"
        },
        "id": "BLJotWuyWyDi",
        "outputId": "1d714a46-b780-4041-cde4-ae04472f1e54"
      },
      "execution_count": 3,
      "outputs": [
        {
          "output_type": "execute_result",
          "data": {
            "text/plain": [
              "447.62426951814217"
            ]
          },
          "metadata": {},
          "execution_count": 3
        }
      ]
    },
    {
      "cell_type": "code",
      "source": [
        "\n",
        "ct = make_column_transformer(\n",
        "    (Normalizer(), [\"abv\", \"originalGravity\", \"srm\"]),\n",
        "    remainder=\"drop\"  \n",
        ")  \n",
        "\n",
        "beer_pipeline = make_pipeline(\n",
        "          ct,\n",
        "          KNeighborsRegressor(n_neighbors=20, metric = \"manhattan\")\n",
        ")\n",
        "\n",
        "beer_pipeline.fit(X=X_train, y=Y_train)\n",
        "\n",
        "x_new = df_beer_train[[\"abv\", \"originalGravity\", \"srm\"]]\n",
        "y_train_ = beer_pipeline.predict(X= x_new)\n",
        "mse = ((df_beer_train[\"ibu\"] - y_train_) ** 2).mean()\n",
        "mse\n"
      ],
      "metadata": {
        "colab": {
          "base_uri": "https://localhost:8080/"
        },
        "id": "EwwXyfletpGr",
        "outputId": "cf807336-8500-4202-b773-434675a3a505"
      },
      "execution_count": 4,
      "outputs": [
        {
          "output_type": "execute_result",
          "data": {
            "text/plain": [
              "534.1289967850107"
            ]
          },
          "metadata": {},
          "execution_count": 4
        }
      ]
    },
    {
      "cell_type": "code",
      "source": [
        "\n",
        "ct = make_column_transformer(\n",
        "    (MinMaxScaler(), [\"abv\", \"originalGravity\", \"srm\"]),\n",
        "    remainder=\"drop\"  \n",
        ")  \n",
        "\n",
        "beer_pipeline = make_pipeline(\n",
        "          ct,\n",
        "          KNeighborsRegressor(n_neighbors=20, metric = \"manhattan\")\n",
        ")\n",
        "\n",
        "beer_pipeline.fit(X=X_train, y=Y_train)\n",
        "\n",
        "x_new = df_beer_train[[\"abv\", \"originalGravity\", \"srm\"]]\n",
        "y_train_ = beer_pipeline.predict(X= x_new)\n",
        "mse = ((df_beer_train[\"ibu\"] - y_train_) ** 2).mean()\n",
        "mse\n"
      ],
      "metadata": {
        "colab": {
          "base_uri": "https://localhost:8080/"
        },
        "id": "V9wgMvm3tudr",
        "outputId": "133efbec-9b35-4a22-ad81-b46b417839fd"
      },
      "execution_count": 5,
      "outputs": [
        {
          "output_type": "execute_result",
          "data": {
            "text/plain": [
              "497.14169182646776"
            ]
          },
          "metadata": {},
          "execution_count": 5
        }
      ]
    },
    {
      "cell_type": "code",
      "source": [
        "ct = make_column_transformer(\n",
        "    (StandardScaler(), [\"abv\", \"originalGravity\", \"srm\"]),\n",
        "    remainder=\"drop\"  \n",
        ")  \n",
        "\n",
        "beer_pipeline = make_pipeline(\n",
        "          ct,\n",
        "          KNeighborsRegressor(n_neighbors=20, metric = \"euclidean\")\n",
        ")\n",
        "\n",
        "beer_pipeline.fit(X=X_train, y=Y_train)\n",
        "\n",
        "x_new = df_beer_train[[\"abv\", \"originalGravity\", \"srm\"]]\n",
        "y_train_ = beer_pipeline.predict(X= x_new)\n",
        "mse = ((df_beer_train[\"ibu\"] - y_train_) ** 2).mean()\n",
        "mse"
      ],
      "metadata": {
        "colab": {
          "base_uri": "https://localhost:8080/"
        },
        "id": "DHVKlFMZt5bj",
        "outputId": "b9269cc7-4ecd-4363-dcb6-2811eda0cd08"
      },
      "execution_count": 6,
      "outputs": [
        {
          "output_type": "execute_result",
          "data": {
            "text/plain": [
              "461.41379440783703"
            ]
          },
          "metadata": {},
          "execution_count": 6
        }
      ]
    },
    {
      "cell_type": "markdown",
      "source": [
        "Using the standard scaler with the manhattan distance metric minimized the mse compared to the min max scaler, normalizer, and euclidean distance. This makes sense because standard scaler goes by columns, which will allow the mean square error to be smaller than it would by each row."
      ],
      "metadata": {
        "id": "8gdopggQ7NpP"
      }
    },
    {
      "cell_type": "markdown",
      "metadata": {
        "id": "8O3DcQAYGYtq"
      },
      "source": [
        "## Question 2\n",
        "\n",
        "Repeat Question 1, this time using the *cultural* features."
      ]
    },
    {
      "cell_type": "code",
      "source": [
        "X_train = df_beer_train[[\"glass\", \"available\"]]\n",
        "Y_train = df_beer_train[\"ibu\"]\n",
        "\n",
        "ct = make_column_transformer(\n",
        "    (OneHotEncoder(), [\"glass\", \"available\"]),\n",
        "    remainder=\"drop\"  \n",
        ")  \n",
        "\n",
        "beer_pipeline = make_pipeline(\n",
        "          ct,\n",
        "          KNeighborsRegressor(n_neighbors=20, metric = \"manhattan\")\n",
        ")\n",
        "\n",
        "beer_pipeline.fit(X=X_train, y=Y_train)\n",
        "\n",
        "x_new = df_beer_train[[\"glass\", \"available\"]]\n",
        "y_train_ = beer_pipeline.predict(X= x_new)\n",
        "mse = ((df_beer_train[\"ibu\"] - y_train_) ** 2).mean()\n",
        "mse"
      ],
      "metadata": {
        "colab": {
          "base_uri": "https://localhost:8080/"
        },
        "id": "qXIr_4HpiCft",
        "outputId": "c9d3005b-ca8a-4bd4-debe-7d9f5c7d7a06"
      },
      "execution_count": 7,
      "outputs": [
        {
          "output_type": "execute_result",
          "data": {
            "text/plain": [
              "818.4100147235077"
            ]
          },
          "metadata": {},
          "execution_count": 7
        }
      ]
    },
    {
      "cell_type": "code",
      "source": [
        "X_train = df_beer_train[[\"glass\", \"available\"]]\n",
        "Y_train = df_beer_train[\"ibu\"]\n",
        "\n",
        "ct = make_column_transformer(\n",
        "    (OneHotEncoder(), [\"glass\", \"available\"]),\n",
        "    remainder=\"drop\"  \n",
        ")  \n",
        "\n",
        "beer_pipeline = make_pipeline(\n",
        "          ct,\n",
        "          KNeighborsRegressor(n_neighbors=20, metric = \"euclidean\")\n",
        ")\n",
        "\n",
        "beer_pipeline.fit(X=X_train, y=Y_train)\n",
        "\n",
        "x_new = df_beer_train[[\"glass\", \"available\"]]\n",
        "y_train_ = beer_pipeline.predict(X= x_new)\n",
        "mse = ((df_beer_train[\"ibu\"] - y_train_) ** 2).mean()\n",
        "mse"
      ],
      "metadata": {
        "colab": {
          "base_uri": "https://localhost:8080/"
        },
        "id": "l3GOTtERuoem",
        "outputId": "1be28830-1d0f-4135-d692-33349fd3c1c1"
      },
      "execution_count": 8,
      "outputs": [
        {
          "output_type": "execute_result",
          "data": {
            "text/plain": [
              "818.4100147235077"
            ]
          },
          "metadata": {},
          "execution_count": 8
        }
      ]
    },
    {
      "cell_type": "markdown",
      "source": [
        "The mean squared error, after comparing different scalers, appear to be the same for the cultural features. "
      ],
      "metadata": {
        "id": "bXC_Vdv3vCL0"
      }
    },
    {
      "cell_type": "markdown",
      "metadata": {
        "id": "vgaFvqueY8Dc"
      },
      "source": [
        "## Question 3\n",
        "\n",
        "Finally, repeat Question 1, using *all* the features."
      ]
    },
    {
      "cell_type": "code",
      "source": [
        "X_train = df_beer_train[[\"glass\", \"available\", \"abv\", \"originalGravity\", \"srm\"]]\n",
        "Y_train = df_beer_train[\"ibu\"]\n",
        "\n",
        "ct = make_column_transformer(\n",
        "    (OneHotEncoder(), [\"glass\", \"available\"]),\n",
        "    (StandardScaler(), [\"abv\", \"originalGravity\", \"srm\"]),\n",
        "    remainder=\"drop\"  \n",
        ")  \n",
        "\n",
        "beer_pipeline = make_pipeline(\n",
        "          ct,\n",
        "          KNeighborsRegressor(n_neighbors=20, metric = \"manhattan\")\n",
        ")\n",
        "\n",
        "beer_pipeline.fit(X=X_train, y=Y_train)\n",
        "y_train_ = beer_pipeline.predict(X= X_train)\n",
        "mse = ((df_beer_train[\"ibu\"] - y_train_) ** 2).mean()\n",
        "mse\n"
      ],
      "metadata": {
        "colab": {
          "base_uri": "https://localhost:8080/"
        },
        "id": "B953oRrojT3G",
        "outputId": "8b3bd21c-0680-4702-eb0e-aa2cd70df413"
      },
      "execution_count": 9,
      "outputs": [
        {
          "output_type": "execute_result",
          "data": {
            "text/plain": [
              "486.1048350029978"
            ]
          },
          "metadata": {},
          "execution_count": 9
        }
      ]
    },
    {
      "cell_type": "code",
      "source": [
        "X_train = df_beer_train[[\"glass\", \"available\", \"abv\", \"originalGravity\", \"srm\"]]\n",
        "Y_train = df_beer_train[\"ibu\"]\n",
        "\n",
        "ct = make_column_transformer(\n",
        "    (OneHotEncoder(), [\"glass\", \"available\"]),\n",
        "    (Normalizer(), [\"abv\", \"originalGravity\", \"srm\"]),\n",
        "    remainder=\"drop\"  \n",
        ")  \n",
        "\n",
        "beer_pipeline = make_pipeline(\n",
        "          ct,\n",
        "          KNeighborsRegressor(n_neighbors=20, metric = \"euclidean\")\n",
        ")\n",
        "\n",
        "beer_pipeline.fit(X=X_train, y=Y_train)\n",
        "\n",
        "x_new = df_beer_train[[\"glass\", \"available\", \"abv\", \"originalGravity\", \"srm\"]]\n",
        "y_train_ = beer_pipeline.predict(X= x_new)\n",
        "mse = ((df_beer_train[\"ibu\"] - y_train_) ** 2).mean()\n",
        "mse\n"
      ],
      "metadata": {
        "colab": {
          "base_uri": "https://localhost:8080/"
        },
        "id": "hzkjrVM9vAOs",
        "outputId": "7dac0421-bc77-4fc3-b5cc-b4f04d15abd1"
      },
      "execution_count": 10,
      "outputs": [
        {
          "output_type": "execute_result",
          "data": {
            "text/plain": [
              "597.926680086825"
            ]
          },
          "metadata": {},
          "execution_count": 10
        }
      ]
    },
    {
      "cell_type": "markdown",
      "source": [
        "Like problem 1, the manhattan distance with the standard scaler results in the smallest mse. However, it is not as low as it was with just the quantitative variables, we might possibly be overfitting the model by adding too many factors that are not significant."
      ],
      "metadata": {
        "id": "pCZD553gvZyU"
      }
    },
    {
      "cell_type": "markdown",
      "metadata": {
        "id": "J_uFz0BaY8Ds"
      },
      "source": [
        "## Question 4\n",
        "\n",
        "Finally, let's determine the right value of $k$. Use the set of features, the distance metric, and the scaling method that you determined to be best (for $k=20$ nearest neighbors model) in Question 4. Fit $k$-nearest neighbor models for different values of $k$. Plot the training error and the estimated test error as functions of $k$, and determine the optimal value of $k$."
      ]
    },
    {
      "cell_type": "code",
      "source": [
        "import matplotlib.pyplot as plt\n",
        "\n",
        "df_train = df_beer_train[:5000]\n",
        "X_train = df_train[[\"glass\", \"available\", \"abv\", \"originalGravity\", \"srm\"]]\n",
        "Y_train = df_train[\"ibu\"]\n",
        "\n",
        "ct = make_column_transformer(\n",
        "    (OneHotEncoder(), [\"glass\", \"available\"]),\n",
        "    (StandardScaler(), [\"abv\", \"originalGravity\", \"srm\"]),\n",
        "    remainder=\"drop\"  \n",
        ")  \n",
        "k = 1\n",
        "mse_store = []\n",
        "while k < 50:\n",
        "  beer_pipeline = make_pipeline(\n",
        "            ct,\n",
        "            KNeighborsRegressor(n_neighbors=k, metric = \"manhattan\")\n",
        "  )\n",
        "\n",
        "  beer_pipeline.fit(X=X_train, y=Y_train)\n",
        "\n",
        "  x_new = df_train[[\"glass\", \"available\", \"abv\", \"originalGravity\", \"srm\"]]\n",
        "  y_train_ = beer_pipeline.predict(X= X_train)\n",
        "\n",
        "  mse = ((df_train[\"ibu\"] - y_train_) ** 2).mean()\n",
        "  mse_store.append(mse)\n",
        "  k += 1\n",
        "\n",
        "plt.plot(list(range(1, 50)), mse_store)\n"
      ],
      "metadata": {
        "colab": {
          "base_uri": "https://localhost:8080/",
          "height": 283
        },
        "id": "lIJO-_EGuci9",
        "outputId": "cc5c9998-2eb6-485b-ff4e-e4a12055de4f"
      },
      "execution_count": 11,
      "outputs": [
        {
          "output_type": "execute_result",
          "data": {
            "text/plain": [
              "[<matplotlib.lines.Line2D at 0x7fe49fdfc450>]"
            ]
          },
          "metadata": {},
          "execution_count": 11
        },
        {
          "output_type": "display_data",
          "data": {
            "image/png": "[encoded data removed]",
            "text/plain": [
              "<Figure size 432x288 with 1 Axes>"
            ]
          },
          "metadata": {
            "needs_background": "light"
          }
        }
      ]
    },
    {
      "cell_type": "code",
      "source": [
        "\n",
        "df_test = df_beer_train[5000:]\n",
        "X_train = df_train[[\"glass\", \"available\", \"abv\", \"originalGravity\", \"srm\"]]\n",
        "Y_train = df_train[\"ibu\"]\n",
        "\n",
        "ct = make_column_transformer(\n",
        "    (OneHotEncoder(), [\"glass\", \"available\"]),\n",
        "    (StandardScaler(), [\"abv\", \"originalGravity\", \"srm\"]),\n",
        "    remainder=\"drop\"  \n",
        ")  \n",
        "k = 1\n",
        "mse_store = []\n",
        "while k < 50:\n",
        "  beer_pipeline = make_pipeline(\n",
        "            ct,\n",
        "            KNeighborsRegressor(n_neighbors=k, metric = \"manhattan\")\n",
        "  )\n",
        "\n",
        "  beer_pipeline.fit(X=X_train, y=Y_train)\n",
        "\n",
        "  x_new = df_test[[\"glass\", \"available\", \"abv\", \"originalGravity\", \"srm\"]]\n",
        "  y_train_ = beer_pipeline.predict(X= x_new)\n",
        "\n",
        "  mse = ((df_test[\"ibu\"] - y_train_) ** 2).mean()\n",
        "  mse_store.append(mse)\n",
        "  k += 1\n",
        "\n",
        "plt.plot(list(range(1, 50)), mse_store)\n",
        "min = min(mse_store)\n",
        "index = mse_store.index(min)\n",
        "index"
      ],
      "metadata": {
        "colab": {
          "base_uri": "https://localhost:8080/",
          "height": 283
        },
        "id": "qyNZR_jH-FKj",
        "outputId": "3c33da74-d836-4103-b2f7-a6d9035892e5"
      },
      "execution_count": 12,
      "outputs": [
        {
          "output_type": "execute_result",
          "data": {
            "text/plain": [
              "6"
            ]
          },
          "metadata": {},
          "execution_count": 12
        },
        {
          "output_type": "display_data",
          "data": {
            "image/png": "[encoded data removed]",
            "text/plain": [
              "<Figure size 432x288 with 1 Axes>"
            ]
          },
          "metadata": {
            "needs_background": "light"
          }
        }
      ]
    },
    {
      "cell_type": "markdown",
      "source": [
        "It looks like the optimal value of k is 6 for mean squared error."
      ],
      "metadata": {
        "id": "3vUFLPnGJEfq"
      }
    },
    {
      "cell_type": "markdown",
      "metadata": {
        "id": "qhRFqKSDY8D2"
      },
      "source": [
        "## Submission Instructions\n",
        "\n",
        "- Copy this notebook to your own Drive, if you have not already.\n",
        "- Restart this notebook and run the cells from beginning to end. \n",
        "  - Go to Runtime > Restart and Run All.\n",
        "- Rename this notebook by clicking on \"DATA 301 Lab 4 - YOUR NAMES HERE\" at the very top of this page. Replace \"YOUR NAMES HERE\" with the first and last names of you (and your partners, for Phase 2).\n",
        "- Get the link to your notebook:\n",
        "  - Click on \"Share\" at the top-right. \n",
        "  - Change the settings to \"Anyone with the link can view\". \n",
        "  - Copy the sharing link into Canvas."
      ]
    }
  ]
}